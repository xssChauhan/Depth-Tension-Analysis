{
 "cells": [
  {
   "cell_type": "code",
   "execution_count": 8,
   "metadata": {
    "collapsed": true
   },
   "outputs": [],
   "source": [
    "import pandas as pd\n",
    "import numpy as np\n",
    "import os\n",
    "from detect_peaks import detect_peaks , _plot"
   ]
  },
  {
   "cell_type": "code",
   "execution_count": 9,
   "metadata": {
    "collapsed": true
   },
   "outputs": [],
   "source": [
    "def analysis(data , f):\n",
    "    depth_data = data.ix[:,:]\n",
    "\n",
    "    tension_data = data.ix[:,5:7]\n",
    "    depth_data['tension'] = tension_data['Tension(Y)']\n",
    "    depth_data['Depth(Y)'] = (np.ceil(depth_data[\"Depth(Y)\"]/20)*20).astype(int)\n",
    "\n",
    "    depth_data['block'] = (depth_data[\"Depth(Y)\"].shift(1) != depth_data[\"Depth(Y)\"]).astype(int).cumsum()\n",
    "\n",
    "    l = depth_data.reset_index().groupby([\"Depth(Y)\",\"block\"]) # Finding ranges where depth is constant\n",
    "\n",
    "    filtered_depth_indices = filter(lambda x : len(l.indices[x]) > 100 , l.indices)\n",
    "\n",
    "    sorted_depth_indices = sorted(filtered_depth_indices , key = lambda x : len(l.indices[x]) , reverse = True)\n",
    "\n",
    "    m,n = sorted_depth_indices[00]\n",
    "    t = np.where((depth_data[\"Depth(Y)\"] == m) & (depth_data['block'] == n) )\n",
    "    m = tension_data[t[0][0]:t[0][-1]].max()\n",
    "    set_df = pd.DataFrame(columns = [\"start\" , \"end\" , \"max_tension\"])\n",
    "    nd = []\n",
    "\n",
    "    def tensions():\n",
    "        l = []\n",
    "        for e in sorted_depth_indices:\n",
    "            m,n = e\n",
    "            t = np.where((depth_data[\"Depth(Y)\"] == m) & (depth_data['block'] == n) )[0]\n",
    "            max = tension_data[t[0]:t[-1]]['Tension(Y)'].max()\n",
    "            max_index = np.where((depth_data['tension'] == max) & (depth_data['block'] == n))\n",
    "            nd.append(max)\n",
    "            set_df\n",
    "            l.extend(max_index[0])\n",
    "        return l\n",
    "\n",
    "    t = tensions()\n",
    "    set_df\n",
    "\n",
    "    data = []\n",
    "    for e in range(len(depth_data)):\n",
    "        val = 0\n",
    "        if e in t:\n",
    "            val = depth_data['tension'][e]\n",
    "        data.append(val)\n",
    "\n",
    "    max_tension = depth_data['tension'].max()\n",
    "    max_tension_index = np.where(depth_data['tension'] == max_tension)[0][0]\n",
    "    max_tension = (max_tension_index , max_tension)\n",
    "\n",
    "    max_speed = depth_data['Depth_dt(Y)'].max()\n",
    "    max_speed_index = np.where(depth_data['Depth_dt(Y)'] == max_speed)[0][0]\n",
    "    max_speed = (max_speed_index , max_speed)\n",
    "\n",
    "    id = detect_peaks(data , mph = tension_data['Tension(Y)'].median())\n",
    "    _plot(tension_data['Tension(Y)'] , depth_data['Depth(Y)'] , f , max_speed , max_tension, 1500 , mpd = 1 , threshold = 0,edge = \"rising\" , valley = False , ax = None ,ind =  id )"
   ]
  },
  {
   "cell_type": "code",
   "execution_count": 10,
   "metadata": {},
   "outputs": [
    {
     "name": "stderr",
     "output_type": "stream",
     "text": [
      "/home/shikhar/Documents/vij/env/lib/python3.5/site-packages/ipykernel_launcher.py:2: DeprecationWarning: \n",
      ".ix is deprecated. Please use\n",
      ".loc for label based indexing or\n",
      ".iloc for positional indexing\n",
      "\n",
      "See the documentation here:\n",
      "http://pandas.pydata.org/pandas-docs/stable/indexing.html#deprecate_ix\n",
      "  \n"
     ]
    }
   ],
   "source": [
    "for e in os.listdir(\"data\"):\n",
    "    data = pd.read_csv(\"data/\"+e)\n",
    "    analysis(data , e+\".png\")"
   ]
  }
 ],
 "metadata": {
  "kernelspec": {
   "display_name": "Python 3",
   "language": "python",
   "name": "python3"
  },
  "language_info": {
   "codemirror_mode": {
    "name": "ipython",
    "version": 3
   },
   "file_extension": ".py",
   "mimetype": "text/x-python",
   "name": "python",
   "nbconvert_exporter": "python",
   "pygments_lexer": "ipython3",
   "version": "3.5.3"
  }
 },
 "nbformat": 4,
 "nbformat_minor": 2
}
